{
 "cells": [
  {
   "cell_type": "code",
   "execution_count": 2,
   "id": "c745b199-6974-4bea-9837-af16422faa3c",
   "metadata": {},
   "outputs": [],
   "source": [
    "import pandas as pd\n",
    "\n",
    "dataset = pd.read_excel(r\"G:\\Gayathri\\Name Segmentation\\gpt_src.xlsx\")"
   ]
  },
  {
   "cell_type": "code",
   "execution_count": 3,
   "id": "e27b61fd-6104-4e3e-995e-e30a5d8eec2e",
   "metadata": {},
   "outputs": [
    {
     "data": {
      "text/html": [
       "<div>\n",
       "<style scoped>\n",
       "    .dataframe tbody tr th:only-of-type {\n",
       "        vertical-align: middle;\n",
       "    }\n",
       "\n",
       "    .dataframe tbody tr th {\n",
       "        vertical-align: top;\n",
       "    }\n",
       "\n",
       "    .dataframe thead th {\n",
       "        text-align: right;\n",
       "    }\n",
       "</style>\n",
       "<table border=\"1\" class=\"dataframe\">\n",
       "  <thead>\n",
       "    <tr style=\"text-align: right;\">\n",
       "      <th></th>\n",
       "      <th>Name</th>\n",
       "      <th>Revsd Name</th>\n",
       "    </tr>\n",
       "  </thead>\n",
       "  <tbody>\n",
       "    <tr>\n",
       "      <th>0</th>\n",
       "      <td>Ananya Cosmetic</td>\n",
       "      <td>Ananya Cosmetics</td>\n",
       "    </tr>\n",
       "    <tr>\n",
       "      <th>1</th>\n",
       "      <td>Aneja Medic</td>\n",
       "      <td>Aneja Medical Store</td>\n",
       "    </tr>\n",
       "    <tr>\n",
       "      <th>2</th>\n",
       "      <td>Apna Bazar 44 ,Jain Interprises</td>\n",
       "      <td>Apna Bazaar 44 - Jain Enterprises</td>\n",
       "    </tr>\n",
       "    <tr>\n",
       "      <th>3</th>\n",
       "      <td>APNA DEPARTMENT STORE</td>\n",
       "      <td>Apna Departmental Store</td>\n",
       "    </tr>\n",
       "    <tr>\n",
       "      <th>4</th>\n",
       "      <td>Apna Dhaba(Vikaspuri)</td>\n",
       "      <td>Apna Dhaba</td>\n",
       "    </tr>\n",
       "  </tbody>\n",
       "</table>\n",
       "</div>"
      ],
      "text/plain": [
       "                              Name                         Revsd Name\n",
       "0                  Ananya Cosmetic                   Ananya Cosmetics\n",
       "1                      Aneja Medic                Aneja Medical Store\n",
       "2  Apna Bazar 44 ,Jain Interprises  Apna Bazaar 44 - Jain Enterprises\n",
       "3            APNA DEPARTMENT STORE            Apna Departmental Store\n",
       "4            Apna Dhaba(Vikaspuri)                         Apna Dhaba"
      ]
     },
     "execution_count": 3,
     "metadata": {},
     "output_type": "execute_result"
    }
   ],
   "source": [
    "dataset.head()"
   ]
  },
  {
   "cell_type": "code",
   "execution_count": 4,
   "id": "0d1bf8c7-4bcb-4705-be60-fa25a0ad1ea8",
   "metadata": {},
   "outputs": [],
   "source": [
    "#Training Data format\n",
    "def convert_to_gpt35_format(dataset):\n",
    "    fine_tuning_data = []\n",
    "    for row in dataset.values:\n",
    "        fine_tuning_data.append({\n",
    "            \"messages\": [\n",
    "                {\"role\": \"system\", \"content\": \"Clean or correct the spelling for the store name and give the store name alone\"},\n",
    "                {\"role\": \"user\", \"content\": row[0]},\n",
    "                {\"role\": \"assistant\", \"content\" : row[1]}\n",
    "            ]\n",
    "        })\n",
    "    return fine_tuning_data\n",
    "\n",
    "converted_data = convert_to_gpt35_format(dataset)"
   ]
  },
  {
   "cell_type": "code",
   "execution_count": 5,
   "id": "427d018c-0f3a-4ed3-a203-147906c28461",
   "metadata": {},
   "outputs": [
    {
     "data": {
      "text/plain": [
       "[{'messages': [{'role': 'system',\n",
       "    'content': 'Clean or correct the spelling for the store name and give the store name alone'},\n",
       "   {'role': 'user', 'content': 'Apna Drug Bazar'},\n",
       "   {'role': 'assistant', 'content': 'Apna Drug Bazaar'}]},\n",
       " {'messages': [{'role': 'system',\n",
       "    'content': 'Clean or correct the spelling for the store name and give the store name alone'},\n",
       "   {'role': 'user', 'content': 'Apna Dryfruit Store'},\n",
       "   {'role': 'assistant', 'content': 'Apna Dry fruits Store'}]},\n",
       " {'messages': [{'role': 'system',\n",
       "    'content': 'Clean or correct the spelling for the store name and give the store name alone'},\n",
       "   {'role': 'user', 'content': 'APNA DUKAAN'},\n",
       "   {'role': 'assistant', 'content': 'Apna Dukan'}]},\n",
       " {'messages': [{'role': 'system',\n",
       "    'content': 'Clean or correct the spelling for the store name and give the store name alone'},\n",
       "   {'role': 'user', 'content': 'Shri Samarth Super Market'},\n",
       "   {'role': 'assistant', 'content': 'Shri Samarth Supermarket'}]},\n",
       " {'messages': [{'role': 'system',\n",
       "    'content': 'Clean or correct the spelling for the store name and give the store name alone'},\n",
       "   {'role': 'user', 'content': 'Taiba Cold Drin & Daily Needs'},\n",
       "   {'role': 'assistant', 'content': 'Taiba Cold Drinks & Daily Needs'}]},\n",
       " {'messages': [{'role': 'system',\n",
       "    'content': 'Clean or correct the spelling for the store name and give the store name alone'},\n",
       "   {'role': 'user', 'content': 'Yogeshwari Journals'},\n",
       "   {'role': 'assistant', 'content': 'Yogeshwari Generals'}]},\n",
       " {'messages': [{'role': 'system',\n",
       "    'content': 'Clean or correct the spelling for the store name and give the store name alone'},\n",
       "   {'role': 'user', 'content': 'Wadhwan Sweet & Coldring'},\n",
       "   {'role': 'assistant', 'content': 'Wadhwan Sweet & Cold Drinks'}]},\n",
       " {'messages': [{'role': 'system',\n",
       "    'content': 'Clean or correct the spelling for the store name and give the store name alone'},\n",
       "   {'role': 'user', 'content': 'Baba Jenral'},\n",
       "   {'role': 'assistant', 'content': 'Baba General Store'}]},\n",
       " {'messages': [{'role': 'system',\n",
       "    'content': 'Clean or correct the spelling for the store name and give the store name alone'},\n",
       "   {'role': 'user', 'content': 'Kgn Chinese'},\n",
       "   {'role': 'assistant', 'content': 'K G N Chinese'}]},\n",
       " {'messages': [{'role': 'system',\n",
       "    'content': 'Clean or correct the spelling for the store name and give the store name alone'},\n",
       "   {'role': 'user', 'content': 'New Solnki Confshneri'},\n",
       "   {'role': 'assistant', 'content': 'New Solnki Confectionery'}]}]"
      ]
     },
     "execution_count": 5,
     "metadata": {},
     "output_type": "execute_result"
    }
   ],
   "source": [
    "converted_data[5:15]"
   ]
  },
  {
   "cell_type": "code",
   "execution_count": 6,
   "id": "94a3d079-5708-4d4e-9efd-6a35162a6cbb",
   "metadata": {},
   "outputs": [],
   "source": [
    "import json\n",
    "import openai\n",
    "openai.api_key = 'sk-XYZ'\n",
    "\n",
    "def write_to_jsonl(data, file_path):\n",
    "    with open(file_path, 'w') as file:\n",
    "        for entry in data:\n",
    "            json.dump(entry, file)\n",
    "            file.write('\\n')\n",
    "\n",
    "file_name = r\"G:\\Gayathri\\Self_projects\\Name Segmentaion\\Training_data.jsonl\"\n",
    "\n",
    "write_to_jsonl(converted_data, file_name)\n",
    "\n",
    "training_file = openai.files.create(\n",
    "    file=open(file_name, \"rb\"), purpose=\"fine-tune\"\n",
    ")"
   ]
  },
  {
   "cell_type": "code",
   "execution_count": 7,
   "id": "9314c770-cf2b-4fa2-968a-af97b1c9435a",
   "metadata": {},
   "outputs": [
    {
     "data": {
      "text/plain": [
       "FineTuningJob(id='ftjob-i8uvlMpu3oQNPmDjmB894Qo9', created_at=1716790964, error=Error(code=None, message=None, param=None), fine_tuned_model=None, finished_at=None, hyperparameters=Hyperparameters(n_epochs='auto', batch_size='auto', learning_rate_multiplier='auto'), model='gpt-3.5-turbo-0125', object='fine_tuning.job', organization_id='org-6HGmMlbdiBqTAxRnh1unJ3dC', result_files=[], seed=1286120256, status='validating_files', trained_tokens=None, training_file='file-he1jtzCurErOEUgAAZKUXwuR', validation_file=None, estimated_finish=None, integrations=[], user_provided_suffix=None)"
      ]
     },
     "execution_count": 7,
     "metadata": {},
     "output_type": "execute_result"
    }
   ],
   "source": [
    "response = openai.fine_tuning.jobs.create(\n",
    "    training_file=training_file.id,\n",
    "    model=\"gpt-3.5-turbo\",\n",
    ")\n",
    "response"
   ]
  },
  {
   "cell_type": "code",
   "execution_count": 8,
   "id": "1e79190d-f97f-470c-99b3-926a89dedb39",
   "metadata": {},
   "outputs": [
    {
     "data": {
      "text/plain": [
       "SyncCursorPage[FineTuningJobEvent](data=[FineTuningJobEvent(id='ftevent-Nzz473qIYNL47JbZ9HYIp3Dr', created_at=1716790964, level='info', message='Validating training file: file-he1jtzCurErOEUgAAZKUXwuR', object='fine_tuning.job.event', data={}, type='message'), FineTuningJobEvent(id='ftevent-LdESRprzv4IY582kRfB24UJr', created_at=1716790964, level='info', message='Created fine-tuning job: ftjob-i8uvlMpu3oQNPmDjmB894Qo9', object='fine_tuning.job.event', data={}, type='message')], object='list', has_more=False)"
      ]
     },
     "execution_count": 8,
     "metadata": {},
     "output_type": "execute_result"
    }
   ],
   "source": [
    "fine_tune_events = openai.fine_tuning.jobs.list_events(response.id)\n",
    "fine_tune_events"
   ]
  },
  {
   "cell_type": "code",
   "execution_count": 10,
   "id": "1df6997b-c23c-4644-a06f-61d288bd8a38",
   "metadata": {},
   "outputs": [
    {
     "data": {
      "text/plain": [
       "SyncCursorPage[FineTuningJob](data=[FineTuningJob(id='ftjob-i8uvlMpu3oQNPmDjmB894Qo9', created_at=1716790964, error=Error(code=None, message=None, param=None), fine_tuned_model=None, finished_at=None, hyperparameters=Hyperparameters(n_epochs=3, batch_size=1, learning_rate_multiplier=2), model='gpt-3.5-turbo-0125', object='fine_tuning.job', organization_id='org-6HGmMlbdiBqTAxRnh1unJ3dC', result_files=[], seed=1286120256, status='running', trained_tokens=None, training_file='file-he1jtzCurErOEUgAAZKUXwuR', validation_file=None, estimated_finish=None, integrations=[], user_provided_suffix=None), FineTuningJob(id='ftjob-KrgY2llNFEIGH1AWKruV5vJX', created_at=1716556647, error=Error(code=None, message=None, param=None), fine_tuned_model='ft:gpt-3.5-turbo-0125:personal::9SPBqDmz', finished_at=1716557041, hyperparameters=Hyperparameters(n_epochs=3, batch_size=1, learning_rate_multiplier=2), model='gpt-3.5-turbo-0125', object='fine_tuning.job', organization_id='org-6HGmMlbdiBqTAxRnh1unJ3dC', result_files=['file-hdnauMvSxF5LaUS03mqZSfIr'], seed=138644201, status='succeeded', trained_tokens=4602, training_file='file-onDvmXUAI90TwRE4xrJBdRQE', validation_file=None, estimated_finish=None, integrations=[], user_provided_suffix=None), FineTuningJob(id='ftjob-Rsc2PA4HKFUEu8MBstcwWbBq', created_at=1716556448, error=Error(code=None, message=None, param=None), fine_tuned_model='ft:gpt-3.5-turbo-0125:personal::9SP8PYQA', finished_at=1716556827, hyperparameters=Hyperparameters(n_epochs=3, batch_size=1, learning_rate_multiplier=2), model='gpt-3.5-turbo-0125', object='fine_tuning.job', organization_id='org-6HGmMlbdiBqTAxRnh1unJ3dC', result_files=['file-74bJSeUx0c4Z3nQu3Ifgl5nH'], seed=1302870363, status='succeeded', trained_tokens=4602, training_file='file-onDvmXUAI90TwRE4xrJBdRQE', validation_file=None, estimated_finish=None, integrations=[], user_provided_suffix=None), FineTuningJob(id='ftjob-rqCu0XbxC5AIy2bz7NbJEsZL', created_at=1716556390, error=Error(code=None, message=None, param=None), fine_tuned_model='ft:gpt-3.5-turbo-0125:personal::9SP83Z2L', finished_at=1716556806, hyperparameters=Hyperparameters(n_epochs=3, batch_size=1, learning_rate_multiplier=2), model='gpt-3.5-turbo-0125', object='fine_tuning.job', organization_id='org-6HGmMlbdiBqTAxRnh1unJ3dC', result_files=['file-jscsuQdWxG4TAkCugwB66X7R'], seed=1931781531, status='succeeded', trained_tokens=4602, training_file='file-onDvmXUAI90TwRE4xrJBdRQE', validation_file=None, estimated_finish=None, integrations=[], user_provided_suffix=None), FineTuningJob(id='ftjob-mLN6JatOxuYipo9i84hkLCAp', created_at=1716550769, error=Error(code=None, message=None, param=None), fine_tuned_model='ft:gpt-3.5-turbo-0125:personal:yt-tutorial:9SNilko5', finished_at=1716551393, hyperparameters=Hyperparameters(n_epochs=3, batch_size=1, learning_rate_multiplier=2), model='gpt-3.5-turbo-0125', object='fine_tuning.job', organization_id='org-6HGmMlbdiBqTAxRnh1unJ3dC', result_files=['file-FB6NdSeTcg5xsebUuLMDpCqB'], seed=1885987910, status='succeeded', trained_tokens=5298, training_file='file-bWXczAFjKb3epTHI8PZcjNgM', validation_file='file-EN9kaMk1BmifAWMHLVJ3Q7Vb', estimated_finish=None, integrations=[], user_provided_suffix='yt_tutorial'), FineTuningJob(id='ftjob-DrT1TB2mCxEh3Me2A3LJcvFN', created_at=1716543958, error=Error(code=None, message=None, param=None), fine_tuned_model='ft:gpt-3.5-turbo-0125:personal:yt-tutorial:9SLuaxXI', finished_at=1716544438, hyperparameters=Hyperparameters(n_epochs=3, batch_size=1, learning_rate_multiplier=2), model='gpt-3.5-turbo-0125', object='fine_tuning.job', organization_id='org-6HGmMlbdiBqTAxRnh1unJ3dC', result_files=['file-ZShBh8WUe0o4mcFwXFejrVaw'], seed=428580004, status='succeeded', trained_tokens=5298, training_file='file-Xm0mPKXVr7MKsQ4ZQw2kwq5u', validation_file='file-Uwch29RSKyOxD4Vrik5qaBby', estimated_finish=None, integrations=[], user_provided_suffix='yt_tutorial'), FineTuningJob(id='ftjob-AgrfHUWtar5w4vGXekznFSVO', created_at=1716543888, error=Error(code=None, message=None, param=None), fine_tuned_model='ft:gpt-3.5-turbo-0125:personal::9SLwjmIW', finished_at=1716544571, hyperparameters=Hyperparameters(n_epochs=3, batch_size=1, learning_rate_multiplier=2), model='gpt-3.5-turbo-0125', object='fine_tuning.job', organization_id='org-6HGmMlbdiBqTAxRnh1unJ3dC', result_files=['file-oael1A102j3lDGE0KhHcH8lC'], seed=1039336952, status='succeeded', trained_tokens=6303, training_file='file-lGxjeIt91XAJQOOZ2wvwbfSC', validation_file=None, estimated_finish=None, integrations=[], user_provided_suffix=None), FineTuningJob(id='ftjob-AJZoqXk8oRzLx6d04gv0poMn', created_at=1716271378, error=Error(code='invalid_n_examples', message='Training file has 8 example(s), but must have at least 10 examples', param='training_file'), fine_tuned_model=None, finished_at=None, hyperparameters=Hyperparameters(n_epochs='auto', batch_size='auto', learning_rate_multiplier='auto'), model='gpt-3.5-turbo-0125', object='fine_tuning.job', organization_id='org-6HGmMlbdiBqTAxRnh1unJ3dC', result_files=[], seed=194657350, status='failed', trained_tokens=None, training_file='file-VloicfwuB8hIQaj8vZ57VOxo', validation_file=None, estimated_finish=None, integrations=[], user_provided_suffix=None), FineTuningJob(id='ftjob-fBoGhyEQbrQrCFCvZupVVC4G', created_at=1716209950, error=Error(code='invalid_n_examples', message='Training file has 6 example(s), but must have at least 10 examples', param='training_file'), fine_tuned_model=None, finished_at=None, hyperparameters=Hyperparameters(n_epochs='auto', batch_size='auto', learning_rate_multiplier='auto'), model='gpt-3.5-turbo-0125', object='fine_tuning.job', organization_id='org-6HGmMlbdiBqTAxRnh1unJ3dC', result_files=[], seed=1170318829, status='failed', trained_tokens=None, training_file='file-YXZPcJt3BWAVz6lo0SXcpmW0', validation_file='file-YNcc5Vv2YOONg0C2eqP9BGhK', estimated_finish=None, integrations=[], user_provided_suffix='yt_tutorial'), FineTuningJob(id='ftjob-ubvGNoAvHKdUtFYlkVl8prS5', created_at=1716209287, error=Error(code='invalid_n_examples', message='Training file has 6 example(s), but must have at least 10 examples', param='training_file'), fine_tuned_model=None, finished_at=None, hyperparameters=Hyperparameters(n_epochs='auto', batch_size='auto', learning_rate_multiplier='auto'), model='gpt-3.5-turbo-0125', object='fine_tuning.job', organization_id='org-6HGmMlbdiBqTAxRnh1unJ3dC', result_files=[], seed=976347737, status='failed', trained_tokens=None, training_file='file-sQfOQqSmQ0B9sGY9DyWFEs7m', validation_file='file-Iu9AGIg2E0nyRS4f469ybxjn', estimated_finish=None, integrations=[], user_provided_suffix='yt_tutorial')], object='list', has_more=True)"
      ]
     },
     "execution_count": 10,
     "metadata": {},
     "output_type": "execute_result"
    }
   ],
   "source": [
    "openai.fine_tuning.jobs.list(limit=10)"
   ]
  },
  {
   "cell_type": "code",
   "execution_count": 12,
   "id": "cb319b38-8b92-4114-b240-82c8b8df3d1e",
   "metadata": {},
   "outputs": [
    {
     "data": {
      "text/plain": [
       "FineTuningJob(id='ftjob-i8uvlMpu3oQNPmDjmB894Qo9', created_at=1716790964, error=Error(code=None, message=None, param=None), fine_tuned_model=None, finished_at=None, hyperparameters=Hyperparameters(n_epochs=3, batch_size=1, learning_rate_multiplier=2), model='gpt-3.5-turbo-0125', object='fine_tuning.job', organization_id='org-6HGmMlbdiBqTAxRnh1unJ3dC', result_files=[], seed=1286120256, status='running', trained_tokens=None, training_file='file-he1jtzCurErOEUgAAZKUXwuR', validation_file=None, estimated_finish=None, integrations=[], user_provided_suffix=None)"
      ]
     },
     "execution_count": 12,
     "metadata": {},
     "output_type": "execute_result"
    }
   ],
   "source": [
    "retrieve_response = openai.fine_tuning.jobs.retrieve(response.id)\n",
    "retrieve_response"
   ]
  },
  {
   "cell_type": "code",
   "execution_count": 13,
   "id": "4c2608f0-2669-4cd0-a04d-9ea4770c727b",
   "metadata": {},
   "outputs": [],
   "source": [
    "#FINETUNED MODEL RECEIVED VIA REGISTERED MAIL ADDRESS."
   ]
  },
  {
   "cell_type": "code",
   "execution_count": 14,
   "id": "b21724ae-9436-4bb1-a466-f3afceb6f096",
   "metadata": {},
   "outputs": [],
   "source": [
    "#Finetuned model received from mail is \"ft:gpt-3.5-turbo-0125:personal::XYZ\""
   ]
  },
  {
   "cell_type": "code",
   "execution_count": 30,
   "id": "8fb1c893-455d-4def-a5e3-54a8f20b6547",
   "metadata": {},
   "outputs": [
    {
     "name": "stdout",
     "output_type": "stream",
     "text": [
      "GPT MODEL: Kevin GS\n"
     ]
    }
   ],
   "source": [
    "#Genral GPT MODEL\n",
    "import openai\n",
    "openai.api_key = 'sk-XYZ'\n",
    "# Without assistant content\n",
    "system_content = \"Clean or correct the spelling for the store name and give the store name alone\"\n",
    "prompt1 = \"Kvein GS\"\n",
    "\n",
    "response = openai.chat.completions.create(\n",
    "    model='gpt-3.5-turbo',\n",
    "    messages=[\n",
    "        {\"role\": \"system\", \"content\": system_content},\n",
    "        {\"role\": \"user\", \"content\": prompt1},\n",
    "    ],temperature=0, max_tokens=50)\n",
    "\n",
    "parse_out = response.choices[0].message.content\n",
    "print(\"GPT MODEL:\",parse_out)"
   ]
  },
  {
   "cell_type": "code",
   "execution_count": 31,
   "id": "6aba9fa0-3de1-40e8-80dc-9115bcd46708",
   "metadata": {},
   "outputs": [
    {
     "name": "stdout",
     "output_type": "stream",
     "text": [
      "Fine Tuned Model: Kevin General Store\n"
     ]
    }
   ],
   "source": [
    "#FINE TUNED MODEL GPT MODEL\n",
    "import openai\n",
    "openai.api_key = 'sk-XYZ'\n",
    "# Without assistant content\n",
    "system_content = \"Clean or correct the spelling for the store name and give the store name alone\"\n",
    "prompt1 = \"Kvein GS\"\n",
    "\n",
    "response = openai.chat.completions.create(\n",
    "     \n",
    "    model='ft:gpt-3.5-turbo-0125:personal::XYZ',\n",
    "    messages=[\n",
    "        {\"role\": \"system\", \"content\": system_content},\n",
    "        {\"role\": \"user\", \"content\": prompt1},\n",
    "    ],temperature=0, max_tokens=50)\n",
    "\n",
    "parse_out = response.choices[0].message.content\n",
    "print(\"Fine Tuned Model:\",parse_out)\n"
   ]
  },
  {
   "cell_type": "code",
   "execution_count": 29,
   "id": "4ee0b579-0f4c-43c1-bea4-d5a09775d664",
   "metadata": {},
   "outputs": [
    {
     "name": "stdout",
     "output_type": "stream",
     "text": [
      "Fine Tuned Model: Oyo Santi Inn\n"
     ]
    }
   ],
   "source": [
    "#FINE TUNED MODEL GPT MODEL\n",
    "import openai\n",
    "openai.api_key = 'sk-XYZ'\n",
    "system_content = \"Clean or correct the spelling for the store name and give the store name alone\"\n",
    "prompt1 = \"OYO Santi Inn Near Dilli Haat INA\"\n",
    "response = openai.chat.completions.create(\n",
    "     \n",
    "    model='ft:gpt-3.5-turbo-0125:personal::XYZ',\n",
    "    messages=[\n",
    "        {\"role\": \"system\", \"content\": system_content},\n",
    "        {\"role\": \"user\", \"content\": prompt1},\n",
    "    ],temperature=0, max_tokens=50)\n",
    "\n",
    "parse_out = response.choices[0].message.content\n",
    "print(\"Fine Tuned Model:\",parse_out)\n"
   ]
  },
  {
   "cell_type": "code",
   "execution_count": 28,
   "id": "26fe50b9-4c6e-4b37-94be-210fb4628951",
   "metadata": {},
   "outputs": [
    {
     "name": "stdout",
     "output_type": "stream",
     "text": [
      "GPT MODEL: Santi Inn\n",
      "\n",
      "\n"
     ]
    }
   ],
   "source": [
    "#Genral GPT MODEL\n",
    "import openai\n",
    "openai.api_key = 'sk-XYZ'\n",
    "system_content = \"Clean or correct the spelling for the store name and give the store name alone\"\n",
    "prompt1 = \"OYO Santi Inn Near Dilli Haat INA\"\n",
    "response = openai.chat.completions.create(\n",
    "    model='gpt-3.5-turbo',\n",
    "    messages=[\n",
    "        {\"role\": \"system\", \"content\": system_content},\n",
    "        {\"role\": \"user\", \"content\": prompt1},\n",
    "    ],temperature=0, max_tokens=50)\n",
    "\n",
    "parse_out = response.choices[0].message.content\n",
    "print(\"GPT MODEL:\",parse_out)"
   ]
  },
  {
   "cell_type": "code",
   "execution_count": 33,
   "id": "3ee174e9-b3da-4e7a-9fd6-04de5d5cb373",
   "metadata": {},
   "outputs": [
    {
     "name": "stdout",
     "output_type": "stream",
     "text": [
      "Fine Tuned Model: Neha General Store\n"
     ]
    }
   ],
   "source": [
    "#FINE TUNED MODEL GPT MODEL\n",
    "import openai\n",
    "openai.api_key = 'sk-XYZ'\n",
    "system_content = \"Clean or correct the spelling for the store name and give the store name alone\"\n",
    "prompt1 = \"Mundar Saundrya Prasadhan Kendra, Neha General Store\"\n",
    "response = openai.chat.completions.create(\n",
    "     \n",
    "    model='ft:gpt-3.5-turbo-0125:personal::XYZ',\n",
    "    messages=[\n",
    "        {\"role\": \"system\", \"content\": system_content},\n",
    "        {\"role\": \"user\", \"content\": prompt1},\n",
    "    ],temperature=0, max_tokens=50)\n",
    "\n",
    "parse_out = response.choices[0].message.content\n",
    "print(\"Fine Tuned Model:\",parse_out)\n"
   ]
  },
  {
   "cell_type": "code",
   "execution_count": 32,
   "id": "5191d5b9-7d51-4c91-aba8-9aecbe120d9f",
   "metadata": {},
   "outputs": [
    {
     "name": "stdout",
     "output_type": "stream",
     "text": [
      "GPT MODEL: Mundar Saundrya Prasadhan Kendra\n",
      "\n",
      "Neha General Store\n"
     ]
    }
   ],
   "source": [
    "#Genral GPT MODEL\n",
    "import openai\n",
    "openai.api_key = 'sk-XYZ'\n",
    "system_content = \"Clean or correct the spelling for the store name and give the store name alone\"\n",
    "prompt1 = \"Mundar Saundrya Prasadhan Kendra, Neha General Store\"\n",
    "response = openai.chat.completions.create(\n",
    "    model='gpt-3.5-turbo',\n",
    "    messages=[\n",
    "        {\"role\": \"system\", \"content\": system_content},\n",
    "        {\"role\": \"user\", \"content\": prompt1},\n",
    "    ],temperature=0, max_tokens=50)\n",
    "\n",
    "parse_out = response.choices[0].message.content\n",
    "print(\"GPT MODEL:\",parse_out)"
   ]
  }
 ],
 "metadata": {
  "kernelspec": {
   "display_name": "Python 3 (ipykernel)",
   "language": "python",
   "name": "python3"
  },
  "language_info": {
   "codemirror_mode": {
    "name": "ipython",
    "version": 3
   },
   "file_extension": ".py",
   "mimetype": "text/x-python",
   "name": "python",
   "nbconvert_exporter": "python",
   "pygments_lexer": "ipython3",
   "version": "3.11.7"
  }
 },
 "nbformat": 4,
 "nbformat_minor": 5
}
