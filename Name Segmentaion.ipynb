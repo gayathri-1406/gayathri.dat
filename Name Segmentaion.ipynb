{
 "cells": [
  {
   "cell_type": "code",
   "execution_count": 1,
   "id": "2f29d85f-8dd7-4586-b271-2dcf76380f21",
   "metadata": {},
   "outputs": [
    {
     "name": "stdout",
     "output_type": "stream",
     "text": [
      "['Sweet Shop (Stand-alone)' 'Bakery (Stand-alone)' 'Chemist (Stand-alone)'\n",
      " 'Kirana Str' 'Cig / Paan Kiosk' 'Juice Centr' 'Coffee Shop (Stand-alone)'\n",
      " 'Restaurant' 'Hotel' 'Ice Cream Parlour (Stand-alone)'\n",
      " 'Cosmetc / Fancy Str (Stand-alone)' 'Ayurvedic Pharma (Chain)'\n",
      " 'Dairy str' 'Fruit / Veg Mandi' 'Tea Shop (Hot)' 'Fast Food'\n",
      " 'Night Club / Bar' 'Canteen' 'Ayurvedic Pharma (Stand-alone)'\n",
      " 'Chats & Snacks (Stand-alone)' 'Chemist (Chain)'\n",
      " 'Grocry Dept Str (Stand-alone)' 'Gift Shop' 'Dry Fruit Str'\n",
      " 'Grocry Dept Str (Chain)' 'Salon' 'Gourmet Str' 'Bakery (Chain)'\n",
      " 'Chats & Snacks (Chain)' 'Cold Storage Str' 'Beauty Parlour'\n",
      " 'Coffee Shop (Chain)' 'Rice / Flour Mill' 'Ice Cream Parlour (Chain)'\n",
      " 'Cosmetc / Fancy Str (Chain)']\n"
     ]
    }
   ],
   "source": [
    "import pandas as pd\n",
    "import numpy as np\n",
    "df_data=pd.read_excel(r\"G:\\Gayathri\\Name Segmentation\\Source\\Keyword_Input1.xlsx\")\n",
    "\n",
    "print(df_data['New Type'].unique())"
   ]
  },
  {
   "cell_type": "code",
   "execution_count": 6,
   "id": "cd8d19fc-601e-412b-a4a2-7863460aed0b",
   "metadata": {},
   "outputs": [
    {
     "name": "stdout",
     "output_type": "stream",
     "text": [
      "<class 'pandas.core.frame.DataFrame'>\n",
      "RangeIndex: 622312 entries, 0 to 622311\n",
      "Data columns (total 5 columns):\n",
      " #   Column    Non-Null Count   Dtype \n",
      "---  ------    --------------   ----- \n",
      " 0   RefID     622312 non-null  int64 \n",
      " 1   CCP Name  622312 non-null  object\n",
      " 2   Sub Type  622312 non-null  object\n",
      " 3   New Type  622312 non-null  object\n",
      " 4   Count     622312 non-null  int64 \n",
      "dtypes: int64(2), object(3)\n",
      "memory usage: 23.7+ MB\n"
     ]
    }
   ],
   "source": [
    "df_data.info()"
   ]
  },
  {
   "cell_type": "code",
   "execution_count": 5,
   "id": "33f2c27b-b095-42bb-8eb6-f18659d7bd81",
   "metadata": {},
   "outputs": [
    {
     "data": {
      "text/html": [
       "<div>\n",
       "<style scoped>\n",
       "    .dataframe tbody tr th:only-of-type {\n",
       "        vertical-align: middle;\n",
       "    }\n",
       "\n",
       "    .dataframe tbody tr th {\n",
       "        vertical-align: top;\n",
       "    }\n",
       "\n",
       "    .dataframe thead th {\n",
       "        text-align: right;\n",
       "    }\n",
       "</style>\n",
       "<table border=\"1\" class=\"dataframe\">\n",
       "  <thead>\n",
       "    <tr style=\"text-align: right;\">\n",
       "      <th></th>\n",
       "      <th>RefID</th>\n",
       "      <th>CCP Name</th>\n",
       "      <th>Sub Type</th>\n",
       "      <th>New Type</th>\n",
       "      <th>Count</th>\n",
       "    </tr>\n",
       "  </thead>\n",
       "  <tbody>\n",
       "    <tr>\n",
       "      <th>0</th>\n",
       "      <td>1</td>\n",
       "      <td>AGGARWAL SWEET CENTRE</td>\n",
       "      <td>Sweet Shop (Stand-alone)</td>\n",
       "      <td>Sweet Shop (Stand-alone)</td>\n",
       "      <td>31247</td>\n",
       "    </tr>\n",
       "    <tr>\n",
       "      <th>1</th>\n",
       "      <td>128</td>\n",
       "      <td>&amp; JAY RAM TOURIST RASOI DHABA and FAST FOOD #J...</td>\n",
       "      <td>Sweet Shop (Stand-alone)</td>\n",
       "      <td>Sweet Shop (Stand-alone)</td>\n",
       "      <td>31247</td>\n",
       "    </tr>\n",
       "    <tr>\n",
       "      <th>2</th>\n",
       "      <td>170</td>\n",
       "      <td>(Chitranjan Hotel ) Shubham Sweets House</td>\n",
       "      <td>Sweet Shop (Stand-alone)</td>\n",
       "      <td>Sweet Shop (Stand-alone)</td>\n",
       "      <td>31247</td>\n",
       "    </tr>\n",
       "    <tr>\n",
       "      <th>3</th>\n",
       "      <td>185</td>\n",
       "      <td>(Gupta Sweet House)</td>\n",
       "      <td>Sweet Shop (Stand-alone)</td>\n",
       "      <td>Sweet Shop (Stand-alone)</td>\n",
       "      <td>31247</td>\n",
       "    </tr>\n",
       "    <tr>\n",
       "      <th>4</th>\n",
       "      <td>187</td>\n",
       "      <td>(Hari Om Sweet Shop)</td>\n",
       "      <td>Sweet Shop (Stand-alone)</td>\n",
       "      <td>Sweet Shop (Stand-alone)</td>\n",
       "      <td>31247</td>\n",
       "    </tr>\n",
       "  </tbody>\n",
       "</table>\n",
       "</div>"
      ],
      "text/plain": [
       "   RefID                                           CCP Name  \\\n",
       "0      1                              AGGARWAL SWEET CENTRE   \n",
       "1    128  & JAY RAM TOURIST RASOI DHABA and FAST FOOD #J...   \n",
       "2    170           (Chitranjan Hotel ) Shubham Sweets House   \n",
       "3    185                                (Gupta Sweet House)   \n",
       "4    187                               (Hari Om Sweet Shop)   \n",
       "\n",
       "                   Sub Type                  New Type  Count  \n",
       "0  Sweet Shop (Stand-alone)  Sweet Shop (Stand-alone)  31247  \n",
       "1  Sweet Shop (Stand-alone)  Sweet Shop (Stand-alone)  31247  \n",
       "2  Sweet Shop (Stand-alone)  Sweet Shop (Stand-alone)  31247  \n",
       "3  Sweet Shop (Stand-alone)  Sweet Shop (Stand-alone)  31247  \n",
       "4  Sweet Shop (Stand-alone)  Sweet Shop (Stand-alone)  31247  "
      ]
     },
     "execution_count": 5,
     "metadata": {},
     "output_type": "execute_result"
    }
   ],
   "source": [
    "df_data.head()"
   ]
  },
  {
   "cell_type": "code",
   "execution_count": 2,
   "id": "d9b935ec-917e-43ad-b037-52d552ab2041",
   "metadata": {},
   "outputs": [],
   "source": [
    "df_cnt=df_data.groupby('New Type').size().reset_index(name='Count')\n",
    "df_data=pd.merge(df_data, df_cnt, on='New Type')"
   ]
  },
  {
   "cell_type": "code",
   "execution_count": 3,
   "id": "f5aab85a-215d-4d37-88a2-b94e25211277",
   "metadata": {},
   "outputs": [],
   "source": [
    "# df_data=df_data[df_data['Count']>=1000]\n",
    "\n",
    "from imblearn.over_sampling import RandomOverSampler\n",
    "from imblearn.under_sampling import RandomUnderSampler\n",
    "# minority_classes = df_data[df_data['Count'] < 5000]\n",
    "majority_classes = df_data[df_data['Count'] >= 10000]\n",
    "\n",
    "# over_sampler = RandomOverSampler(sampling_strategy= {key: 5000 for key in minority_classes['New Type']})\n",
    "under_sampler = RandomUnderSampler(sampling_strategy={key: 8000 for key in majority_classes['New Type']})\n",
    "\n",
    "# X_over, y_over = over_sampler.fit_resample(np.array(minority_classes['CCP Name']).reshape(-1,1),np.array(minority_classes['New Type']).reshape(-1,1))\n",
    "X_under, y_under = under_sampler.fit_resample(np.array(majority_classes['CCP Name']).reshape(-1,1),np.array(majority_classes['New Type']).reshape(-1,1))\n",
    "\n",
    "# X=X_over.tolist()+X_under.tolist()\n",
    "# y=y_over.tolist()+y_under.tolist()\n",
    "\n",
    "X=X_under.tolist()+[[j] for j in df_data[df_data['Count'] < 5000]['CCP Name'].tolist()]\n",
    "y=y_under.tolist()+df_data[df_data['Count'] < 5000]['New Type'].tolist()\n",
    "\n",
    "balanced_df=pd.DataFrame({'CCP Name': [i[0] for i in X], 'New Type': y})"
   ]
  },
  {
   "cell_type": "code",
   "execution_count": 4,
   "id": "ab4f06e9-82e7-47a4-9300-e616fb27b657",
   "metadata": {},
   "outputs": [
    {
     "name": "stderr",
     "output_type": "stream",
     "text": [
      "[nltk_data] Downloading package stopwords to\n",
      "[nltk_data]     C:\\Users\\Sort\\AppData\\Roaming\\nltk_data...\n",
      "[nltk_data]   Package stopwords is already up-to-date!\n",
      "[nltk_data] Downloading package punkt to\n",
      "[nltk_data]     C:\\Users\\Sort\\AppData\\Roaming\\nltk_data...\n",
      "[nltk_data]   Package punkt is already up-to-date!\n",
      "[nltk_data] Downloading package wordnet to\n",
      "[nltk_data]     C:\\Users\\Sort\\AppData\\Roaming\\nltk_data...\n",
      "[nltk_data]   Package wordnet is already up-to-date!\n",
      "[nltk_data] Downloading package omw-1.4 to\n",
      "[nltk_data]     C:\\Users\\Sort\\AppData\\Roaming\\nltk_data...\n",
      "[nltk_data]   Package omw-1.4 is already up-to-date!\n"
     ]
    }
   ],
   "source": [
    "import nltk\n",
    "from nltk.corpus import stopwords\n",
    "from nltk.stem import WordNetLemmatizer\n",
    "lemmatizer = WordNetLemmatizer()\n",
    "import gensim\n",
    "import re\n",
    "from gensim.utils import simple_preprocess\n",
    "nltk.download('stopwords')\n",
    "nltk.download('punkt')\n",
    "nltk.download('wordnet')\n",
    "nltk.download('omw-1.4')\n",
    "corpus = []\n",
    "for i in range(len(balanced_df['CCP Name'])):\n",
    "    wrd = re.sub('[^a-zA-Z0-9]', ' ', str(balanced_df['CCP Name'][i]))\n",
    "    words=wrd.split(' ')\n",
    "    #words=simple_preprocess(wrd, deacc = False)\n",
    "    words = [lemmatizer.lemmatize(word).lower().replace('  ','') for word in words if word.lower() not in set(stopwords.words('english'))]\n",
    "    corpus.append(' '.join(words).strip().replace('  ',''))\n",
    "    \n",
    "balanced_df['New_Names']=corpus"
   ]
  },
  {
   "cell_type": "code",
   "execution_count": 7,
   "id": "d59481ec-a9be-4744-aa79-3d028a6a36a1",
   "metadata": {},
   "outputs": [
    {
     "data": {
      "text/html": [
       "<style>#sk-container-id-1 {color: black;background-color: white;}#sk-container-id-1 pre{padding: 0;}#sk-container-id-1 div.sk-toggleable {background-color: white;}#sk-container-id-1 label.sk-toggleable__label {cursor: pointer;display: block;width: 100%;margin-bottom: 0;padding: 0.3em;box-sizing: border-box;text-align: center;}#sk-container-id-1 label.sk-toggleable__label-arrow:before {content: \"▸\";float: left;margin-right: 0.25em;color: #696969;}#sk-container-id-1 label.sk-toggleable__label-arrow:hover:before {color: black;}#sk-container-id-1 div.sk-estimator:hover label.sk-toggleable__label-arrow:before {color: black;}#sk-container-id-1 div.sk-toggleable__content {max-height: 0;max-width: 0;overflow: hidden;text-align: left;background-color: #f0f8ff;}#sk-container-id-1 div.sk-toggleable__content pre {margin: 0.2em;color: black;border-radius: 0.25em;background-color: #f0f8ff;}#sk-container-id-1 input.sk-toggleable__control:checked~div.sk-toggleable__content {max-height: 200px;max-width: 100%;overflow: auto;}#sk-container-id-1 input.sk-toggleable__control:checked~label.sk-toggleable__label-arrow:before {content: \"▾\";}#sk-container-id-1 div.sk-estimator input.sk-toggleable__control:checked~label.sk-toggleable__label {background-color: #d4ebff;}#sk-container-id-1 div.sk-label input.sk-toggleable__control:checked~label.sk-toggleable__label {background-color: #d4ebff;}#sk-container-id-1 input.sk-hidden--visually {border: 0;clip: rect(1px 1px 1px 1px);clip: rect(1px, 1px, 1px, 1px);height: 1px;margin: -1px;overflow: hidden;padding: 0;position: absolute;width: 1px;}#sk-container-id-1 div.sk-estimator {font-family: monospace;background-color: #f0f8ff;border: 1px dotted black;border-radius: 0.25em;box-sizing: border-box;margin-bottom: 0.5em;}#sk-container-id-1 div.sk-estimator:hover {background-color: #d4ebff;}#sk-container-id-1 div.sk-parallel-item::after {content: \"\";width: 100%;border-bottom: 1px solid gray;flex-grow: 1;}#sk-container-id-1 div.sk-label:hover label.sk-toggleable__label {background-color: #d4ebff;}#sk-container-id-1 div.sk-serial::before {content: \"\";position: absolute;border-left: 1px solid gray;box-sizing: border-box;top: 0;bottom: 0;left: 50%;z-index: 0;}#sk-container-id-1 div.sk-serial {display: flex;flex-direction: column;align-items: center;background-color: white;padding-right: 0.2em;padding-left: 0.2em;position: relative;}#sk-container-id-1 div.sk-item {position: relative;z-index: 1;}#sk-container-id-1 div.sk-parallel {display: flex;align-items: stretch;justify-content: center;background-color: white;position: relative;}#sk-container-id-1 div.sk-item::before, #sk-container-id-1 div.sk-parallel-item::before {content: \"\";position: absolute;border-left: 1px solid gray;box-sizing: border-box;top: 0;bottom: 0;left: 50%;z-index: -1;}#sk-container-id-1 div.sk-parallel-item {display: flex;flex-direction: column;z-index: 1;position: relative;background-color: white;}#sk-container-id-1 div.sk-parallel-item:first-child::after {align-self: flex-end;width: 50%;}#sk-container-id-1 div.sk-parallel-item:last-child::after {align-self: flex-start;width: 50%;}#sk-container-id-1 div.sk-parallel-item:only-child::after {width: 0;}#sk-container-id-1 div.sk-dashed-wrapped {border: 1px dashed gray;margin: 0 0.4em 0.5em 0.4em;box-sizing: border-box;padding-bottom: 0.4em;background-color: white;}#sk-container-id-1 div.sk-label label {font-family: monospace;font-weight: bold;display: inline-block;line-height: 1.2em;}#sk-container-id-1 div.sk-label-container {text-align: center;}#sk-container-id-1 div.sk-container {/* jupyter's `normalize.less` sets `[hidden] { display: none; }` but bootstrap.min.css set `[hidden] { display: none !important; }` so we also need the `!important` here to be able to override the default hidden behavior on the sphinx rendered scikit-learn.org. See: https://github.com/scikit-learn/scikit-learn/issues/21755 */display: inline-block !important;position: relative;}#sk-container-id-1 div.sk-text-repr-fallback {display: none;}</style><div id=\"sk-container-id-1\" class=\"sk-top-container\"><div class=\"sk-text-repr-fallback\"><pre>LabelEncoder()</pre><b>In a Jupyter environment, please rerun this cell to show the HTML representation or trust the notebook. <br />On GitHub, the HTML representation is unable to render, please try loading this page with nbviewer.org.</b></div><div class=\"sk-container\" hidden><div class=\"sk-item\"><div class=\"sk-estimator sk-toggleable\"><input class=\"sk-toggleable__control sk-hidden--visually\" id=\"sk-estimator-id-1\" type=\"checkbox\" checked><label for=\"sk-estimator-id-1\" class=\"sk-toggleable__label sk-toggleable__label-arrow\">LabelEncoder</label><div class=\"sk-toggleable__content\"><pre>LabelEncoder()</pre></div></div></div></div></div>"
      ],
      "text/plain": [
       "LabelEncoder()"
      ]
     },
     "execution_count": 7,
     "metadata": {},
     "output_type": "execute_result"
    }
   ],
   "source": [
    "from sklearn import preprocessing\n",
    "le = preprocessing.LabelEncoder()\n",
    "le.fit(balanced_df['New Type'])"
   ]
  },
  {
   "cell_type": "code",
   "execution_count": 8,
   "id": "21a02515-95fd-4885-8bcc-6f465cb72206",
   "metadata": {},
   "outputs": [],
   "source": [
    "balanced_df['Labels_Encode']=le.transform(balanced_df['New Type'])\n",
    "from sklearn.feature_extraction.text import CountVectorizer\n",
    "count_vectorizer = CountVectorizer()\n",
    "X_count = count_vectorizer.fit_transform(balanced_df['CCP Name'])"
   ]
  },
  {
   "cell_type": "code",
   "execution_count": 9,
   "id": "9414780d-16ff-4e92-bfa9-b0cd391f0303",
   "metadata": {},
   "outputs": [],
   "source": [
    "from sklearn.decomposition import TruncatedSVD\n",
    "tsd=TruncatedSVD(n_components=35)\n",
    "X_count=tsd.fit_transform(X_count)"
   ]
  },
  {
   "cell_type": "code",
   "execution_count": 11,
   "id": "e704dfa1-81de-41d8-983d-9a75c35d26e5",
   "metadata": {},
   "outputs": [
    {
     "data": {
      "text/html": [
       "<style>#sk-container-id-2 {color: black;background-color: white;}#sk-container-id-2 pre{padding: 0;}#sk-container-id-2 div.sk-toggleable {background-color: white;}#sk-container-id-2 label.sk-toggleable__label {cursor: pointer;display: block;width: 100%;margin-bottom: 0;padding: 0.3em;box-sizing: border-box;text-align: center;}#sk-container-id-2 label.sk-toggleable__label-arrow:before {content: \"▸\";float: left;margin-right: 0.25em;color: #696969;}#sk-container-id-2 label.sk-toggleable__label-arrow:hover:before {color: black;}#sk-container-id-2 div.sk-estimator:hover label.sk-toggleable__label-arrow:before {color: black;}#sk-container-id-2 div.sk-toggleable__content {max-height: 0;max-width: 0;overflow: hidden;text-align: left;background-color: #f0f8ff;}#sk-container-id-2 div.sk-toggleable__content pre {margin: 0.2em;color: black;border-radius: 0.25em;background-color: #f0f8ff;}#sk-container-id-2 input.sk-toggleable__control:checked~div.sk-toggleable__content {max-height: 200px;max-width: 100%;overflow: auto;}#sk-container-id-2 input.sk-toggleable__control:checked~label.sk-toggleable__label-arrow:before {content: \"▾\";}#sk-container-id-2 div.sk-estimator input.sk-toggleable__control:checked~label.sk-toggleable__label {background-color: #d4ebff;}#sk-container-id-2 div.sk-label input.sk-toggleable__control:checked~label.sk-toggleable__label {background-color: #d4ebff;}#sk-container-id-2 input.sk-hidden--visually {border: 0;clip: rect(1px 1px 1px 1px);clip: rect(1px, 1px, 1px, 1px);height: 1px;margin: -1px;overflow: hidden;padding: 0;position: absolute;width: 1px;}#sk-container-id-2 div.sk-estimator {font-family: monospace;background-color: #f0f8ff;border: 1px dotted black;border-radius: 0.25em;box-sizing: border-box;margin-bottom: 0.5em;}#sk-container-id-2 div.sk-estimator:hover {background-color: #d4ebff;}#sk-container-id-2 div.sk-parallel-item::after {content: \"\";width: 100%;border-bottom: 1px solid gray;flex-grow: 1;}#sk-container-id-2 div.sk-label:hover label.sk-toggleable__label {background-color: #d4ebff;}#sk-container-id-2 div.sk-serial::before {content: \"\";position: absolute;border-left: 1px solid gray;box-sizing: border-box;top: 0;bottom: 0;left: 50%;z-index: 0;}#sk-container-id-2 div.sk-serial {display: flex;flex-direction: column;align-items: center;background-color: white;padding-right: 0.2em;padding-left: 0.2em;position: relative;}#sk-container-id-2 div.sk-item {position: relative;z-index: 1;}#sk-container-id-2 div.sk-parallel {display: flex;align-items: stretch;justify-content: center;background-color: white;position: relative;}#sk-container-id-2 div.sk-item::before, #sk-container-id-2 div.sk-parallel-item::before {content: \"\";position: absolute;border-left: 1px solid gray;box-sizing: border-box;top: 0;bottom: 0;left: 50%;z-index: -1;}#sk-container-id-2 div.sk-parallel-item {display: flex;flex-direction: column;z-index: 1;position: relative;background-color: white;}#sk-container-id-2 div.sk-parallel-item:first-child::after {align-self: flex-end;width: 50%;}#sk-container-id-2 div.sk-parallel-item:last-child::after {align-self: flex-start;width: 50%;}#sk-container-id-2 div.sk-parallel-item:only-child::after {width: 0;}#sk-container-id-2 div.sk-dashed-wrapped {border: 1px dashed gray;margin: 0 0.4em 0.5em 0.4em;box-sizing: border-box;padding-bottom: 0.4em;background-color: white;}#sk-container-id-2 div.sk-label label {font-family: monospace;font-weight: bold;display: inline-block;line-height: 1.2em;}#sk-container-id-2 div.sk-label-container {text-align: center;}#sk-container-id-2 div.sk-container {/* jupyter's `normalize.less` sets `[hidden] { display: none; }` but bootstrap.min.css set `[hidden] { display: none !important; }` so we also need the `!important` here to be able to override the default hidden behavior on the sphinx rendered scikit-learn.org. See: https://github.com/scikit-learn/scikit-learn/issues/21755 */display: inline-block !important;position: relative;}#sk-container-id-2 div.sk-text-repr-fallback {display: none;}</style><div id=\"sk-container-id-2\" class=\"sk-top-container\"><div class=\"sk-text-repr-fallback\"><pre>XGBClassifier(base_score=None, booster=None, callbacks=None,\n",
       "              colsample_bylevel=None, colsample_bynode=None,\n",
       "              colsample_bytree=None, device=None, early_stopping_rounds=None,\n",
       "              enable_categorical=False, eval_metric=None, feature_types=None,\n",
       "              gamma=None, grow_policy=None, importance_type=None,\n",
       "              interaction_constraints=None, learning_rate=None, max_bin=None,\n",
       "              max_cat_threshold=None, max_cat_to_onehot=None,\n",
       "              max_delta_step=None, max_depth=None, max_leaves=None,\n",
       "              min_child_weight=None, missing=nan, monotone_constraints=None,\n",
       "              multi_strategy=None, n_estimators=None, n_jobs=None,\n",
       "              num_parallel_tree=None, objective=&#x27;multi:softprob&#x27;, ...)</pre><b>In a Jupyter environment, please rerun this cell to show the HTML representation or trust the notebook. <br />On GitHub, the HTML representation is unable to render, please try loading this page with nbviewer.org.</b></div><div class=\"sk-container\" hidden><div class=\"sk-item\"><div class=\"sk-estimator sk-toggleable\"><input class=\"sk-toggleable__control sk-hidden--visually\" id=\"sk-estimator-id-2\" type=\"checkbox\" checked><label for=\"sk-estimator-id-2\" class=\"sk-toggleable__label sk-toggleable__label-arrow\">XGBClassifier</label><div class=\"sk-toggleable__content\"><pre>XGBClassifier(base_score=None, booster=None, callbacks=None,\n",
       "              colsample_bylevel=None, colsample_bynode=None,\n",
       "              colsample_bytree=None, device=None, early_stopping_rounds=None,\n",
       "              enable_categorical=False, eval_metric=None, feature_types=None,\n",
       "              gamma=None, grow_policy=None, importance_type=None,\n",
       "              interaction_constraints=None, learning_rate=None, max_bin=None,\n",
       "              max_cat_threshold=None, max_cat_to_onehot=None,\n",
       "              max_delta_step=None, max_depth=None, max_leaves=None,\n",
       "              min_child_weight=None, missing=nan, monotone_constraints=None,\n",
       "              multi_strategy=None, n_estimators=None, n_jobs=None,\n",
       "              num_parallel_tree=None, objective=&#x27;multi:softprob&#x27;, ...)</pre></div></div></div></div></div>"
      ],
      "text/plain": [
       "XGBClassifier(base_score=None, booster=None, callbacks=None,\n",
       "              colsample_bylevel=None, colsample_bynode=None,\n",
       "              colsample_bytree=None, device=None, early_stopping_rounds=None,\n",
       "              enable_categorical=False, eval_metric=None, feature_types=None,\n",
       "              gamma=None, grow_policy=None, importance_type=None,\n",
       "              interaction_constraints=None, learning_rate=None, max_bin=None,\n",
       "              max_cat_threshold=None, max_cat_to_onehot=None,\n",
       "              max_delta_step=None, max_depth=None, max_leaves=None,\n",
       "              min_child_weight=None, missing=nan, monotone_constraints=None,\n",
       "              multi_strategy=None, n_estimators=None, n_jobs=None,\n",
       "              num_parallel_tree=None, objective='multi:softprob', ...)"
      ]
     },
     "execution_count": 11,
     "metadata": {},
     "output_type": "execute_result"
    }
   ],
   "source": [
    "from xgboost import XGBClassifier\n",
    "model = XGBClassifier()\n",
    "model.fit(X_count, balanced_df['Labels_Encode'])\n"
   ]
  },
  {
   "cell_type": "code",
   "execution_count": 12,
   "id": "d4035a21-2040-44d3-bfa9-6b34aa912482",
   "metadata": {},
   "outputs": [],
   "source": [
    "mp_test=pd.read_excel(r\"G:\\Gayathri\\Name Segmentation\\Kartikeyan_Source\\Delhi\\Delhi_Input.xlsx\")\n",
    "\n",
    "#%%\n",
    "\n",
    "mp_corpus = []\n",
    "for i in range(len(mp_test['Name'])):\n",
    "    wrd = re.sub('[^a-zA-Z0-9]', ' ', str(mp_test['Name'][i]))\n",
    "    words=wrd.split(' ')\n",
    "    #words=simple_preprocess(wrd, deacc = False)\n",
    "    words = [lemmatizer.lemmatize(word).lower().replace('  ','') for word in words if word.lower() not in set(stopwords.words('english'))]\n",
    "    mp_corpus.append(' '.join(words).strip().replace('  ',''))"
   ]
  },
  {
   "cell_type": "code",
   "execution_count": 13,
   "id": "bf63e621-573d-441f-ac06-ed6992a0fa78",
   "metadata": {},
   "outputs": [
    {
     "name": "stderr",
     "output_type": "stream",
     "text": [
      "D:\\Anaconda\\Lib\\site-packages\\sklearn\\preprocessing\\_label.py:155: DataConversionWarning: A column-vector y was passed when a 1d array was expected. Please change the shape of y to (n_samples, ), for example using ravel().\n",
      "  y = column_or_1d(y, warn=True)\n",
      "D:\\Anaconda\\Lib\\site-packages\\sklearn\\preprocessing\\_label.py:155: DataConversionWarning: A column-vector y was passed when a 1d array was expected. Please change the shape of y to (n_samples, ), for example using ravel().\n",
      "  y = column_or_1d(y, warn=True)\n"
     ]
    }
   ],
   "source": [
    "\n",
    "mp_test['New_Names']=mp_corpus\n",
    "\n",
    "#%%\n",
    "\n",
    "X_test_Count=count_vectorizer.transform(mp_test['New_Names'])\n",
    "X_test_Count=tsd.transform(X_test_Count)\n",
    "\n",
    "pred = model.predict(X_test_Count)\n",
    "mp_test['Predicted_Type'] = le.inverse_transform(pred)\n",
    "\n",
    "\n",
    "#%%\n",
    "\n",
    "# print(classification_report(mp_test['Predicted_Type'], mp_test['My Sub Type']))\n",
    "# mp_test.to_excel(r\"G:\\Gayathri\\Name Segmentation\\Check\\Check1.xlsx\")\n",
    "\n",
    "#%%\n",
    "\n",
    "mp_test['Predicted_Probability']=[max(i)*100 for i in model.predict_proba(X_test_Count)]\n",
    "\n",
    "#%%\n",
    "\n",
    "proba = model.predict_proba(X_test_Count)\n",
    "\n",
    "mp_test['Predicted Class 1']=top_1_class=le.inverse_transform(proba.argsort()[:, ::-1][:, :1])\n",
    "mp_test['Predicted Class 2']=top_2_class=le.inverse_transform(proba.argsort()[:, ::-1][:, 1:2])\n",
    "\n",
    "#%%\n",
    "\n",
    "# top_2_probabilities = np.sort(proba, axis=1)[:, ::-1][:, :2]\n",
    "mp_test['Predicted Class 1 Prob']=top_1_class_prob=np.sort(proba, axis=1)[:, ::-1][:, :1]*100\n",
    "mp_test['Predicted Class 2 Prob']=top_2_class_prob=np.sort(proba, axis=1)[:, ::-1][:, 1:2]*100\n",
    "\n"
   ]
  },
  {
   "cell_type": "code",
   "execution_count": 15,
   "id": "0381ecab-9d5d-4f59-9cdc-f7290b704789",
   "metadata": {},
   "outputs": [
    {
     "data": {
      "text/html": [
       "<div>\n",
       "<style scoped>\n",
       "    .dataframe tbody tr th:only-of-type {\n",
       "        vertical-align: middle;\n",
       "    }\n",
       "\n",
       "    .dataframe tbody tr th {\n",
       "        vertical-align: top;\n",
       "    }\n",
       "\n",
       "    .dataframe thead th {\n",
       "        text-align: right;\n",
       "    }\n",
       "</style>\n",
       "<table border=\"1\" class=\"dataframe\">\n",
       "  <thead>\n",
       "    <tr style=\"text-align: right;\">\n",
       "      <th></th>\n",
       "      <th>Refid</th>\n",
       "      <th>Category</th>\n",
       "      <th>Name</th>\n",
       "      <th>New_Names</th>\n",
       "      <th>Predicted_Type</th>\n",
       "      <th>Predicted_Probability</th>\n",
       "      <th>Predicted Class 1</th>\n",
       "      <th>Predicted Class 2</th>\n",
       "      <th>Predicted Class 1 Prob</th>\n",
       "      <th>Predicted Class 2 Prob</th>\n",
       "    </tr>\n",
       "  </thead>\n",
       "  <tbody>\n",
       "    <tr>\n",
       "      <th>0</th>\n",
       "      <td>1</td>\n",
       "      <td>NaN</td>\n",
       "      <td>Agarwal Bikanar Sweets</td>\n",
       "      <td>agarwal bikanar sweets</td>\n",
       "      <td>Sweet Shop (Stand-alone)</td>\n",
       "      <td>99.052852</td>\n",
       "      <td>Sweet Shop (Stand-alone)</td>\n",
       "      <td>Bakery (Stand-alone)</td>\n",
       "      <td>99.052849</td>\n",
       "      <td>0.460629</td>\n",
       "    </tr>\n",
       "    <tr>\n",
       "      <th>1</th>\n",
       "      <td>2</td>\n",
       "      <td>NaN</td>\n",
       "      <td>Delhi Darbar</td>\n",
       "      <td>delhi darbar</td>\n",
       "      <td>Restaurant</td>\n",
       "      <td>37.835297</td>\n",
       "      <td>Restaurant</td>\n",
       "      <td>Bakery (Stand-alone)</td>\n",
       "      <td>37.835297</td>\n",
       "      <td>13.982844</td>\n",
       "    </tr>\n",
       "    <tr>\n",
       "      <th>2</th>\n",
       "      <td>3</td>\n",
       "      <td>NaN</td>\n",
       "      <td>Grocery Store</td>\n",
       "      <td>grocery store</td>\n",
       "      <td>Kirana Str</td>\n",
       "      <td>80.426455</td>\n",
       "      <td>Kirana Str</td>\n",
       "      <td>Grocry Dept Str (Stand-alone)</td>\n",
       "      <td>80.426453</td>\n",
       "      <td>13.985062</td>\n",
       "    </tr>\n",
       "    <tr>\n",
       "      <th>3</th>\n",
       "      <td>4</td>\n",
       "      <td>NaN</td>\n",
       "      <td>Grocery Store</td>\n",
       "      <td>grocery store</td>\n",
       "      <td>Kirana Str</td>\n",
       "      <td>80.426455</td>\n",
       "      <td>Kirana Str</td>\n",
       "      <td>Grocry Dept Str (Stand-alone)</td>\n",
       "      <td>80.426453</td>\n",
       "      <td>13.985062</td>\n",
       "    </tr>\n",
       "    <tr>\n",
       "      <th>4</th>\n",
       "      <td>5</td>\n",
       "      <td>NaN</td>\n",
       "      <td>M S Store</td>\n",
       "      <td>store</td>\n",
       "      <td>Kirana Str</td>\n",
       "      <td>39.668673</td>\n",
       "      <td>Kirana Str</td>\n",
       "      <td>Grocry Dept Str (Stand-alone)</td>\n",
       "      <td>39.668674</td>\n",
       "      <td>27.588263</td>\n",
       "    </tr>\n",
       "  </tbody>\n",
       "</table>\n",
       "</div>"
      ],
      "text/plain": [
       "   Refid Category                    Name               New_Names  \\\n",
       "0      1      NaN  Agarwal Bikanar Sweets  agarwal bikanar sweets   \n",
       "1      2      NaN            Delhi Darbar            delhi darbar   \n",
       "2      3      NaN           Grocery Store           grocery store   \n",
       "3      4      NaN           Grocery Store           grocery store   \n",
       "4      5      NaN               M S Store                   store   \n",
       "\n",
       "             Predicted_Type  Predicted_Probability         Predicted Class 1  \\\n",
       "0  Sweet Shop (Stand-alone)              99.052852  Sweet Shop (Stand-alone)   \n",
       "1                Restaurant              37.835297                Restaurant   \n",
       "2                Kirana Str              80.426455                Kirana Str   \n",
       "3                Kirana Str              80.426455                Kirana Str   \n",
       "4                Kirana Str              39.668673                Kirana Str   \n",
       "\n",
       "               Predicted Class 2  Predicted Class 1 Prob  \\\n",
       "0           Bakery (Stand-alone)               99.052849   \n",
       "1           Bakery (Stand-alone)               37.835297   \n",
       "2  Grocry Dept Str (Stand-alone)               80.426453   \n",
       "3  Grocry Dept Str (Stand-alone)               80.426453   \n",
       "4  Grocry Dept Str (Stand-alone)               39.668674   \n",
       "\n",
       "   Predicted Class 2 Prob  \n",
       "0                0.460629  \n",
       "1               13.982844  \n",
       "2               13.985062  \n",
       "3               13.985062  \n",
       "4               27.588263  "
      ]
     },
     "execution_count": 15,
     "metadata": {},
     "output_type": "execute_result"
    }
   ],
   "source": [
    "mp_test.head()"
   ]
  },
  {
   "cell_type": "code",
   "execution_count": 14,
   "id": "3314853c-4d9f-4671-8bf5-a581f4d9425e",
   "metadata": {},
   "outputs": [],
   "source": [
    "\n",
    "#mp_test.to_excel(r'G:\\Gayathri\\Name Segmentation\\Kartikeyan_Source\\Delhi\\Delhi_Input_Segment_Added.xlsx')\n",
    "\n"
   ]
  }
 ],
 "metadata": {
  "kernelspec": {
   "display_name": "Python 3 (ipykernel)",
   "language": "python",
   "name": "python3"
  },
  "language_info": {
   "codemirror_mode": {
    "name": "ipython",
    "version": 3
   },
   "file_extension": ".py",
   "mimetype": "text/x-python",
   "name": "python",
   "nbconvert_exporter": "python",
   "pygments_lexer": "ipython3",
   "version": "3.11.7"
  }
 },
 "nbformat": 4,
 "nbformat_minor": 5
}
